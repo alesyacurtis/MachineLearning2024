{
 "cells": [
  {
   "cell_type": "markdown",
   "id": "a38e6fe1",
   "metadata": {},
   "source": [
    "# 1) Чтение данных"
   ]
  },
  {
   "cell_type": "code",
   "execution_count": 109,
   "id": "cef039fa",
   "metadata": {},
   "outputs": [
    {
     "data": {
      "text/html": [
       "<div>\n",
       "<style scoped>\n",
       "    .dataframe tbody tr th:only-of-type {\n",
       "        vertical-align: middle;\n",
       "    }\n",
       "\n",
       "    .dataframe tbody tr th {\n",
       "        vertical-align: top;\n",
       "    }\n",
       "\n",
       "    .dataframe thead th {\n",
       "        text-align: right;\n",
       "    }\n",
       "</style>\n",
       "<table border=\"1\" class=\"dataframe\">\n",
       "  <thead>\n",
       "    <tr style=\"text-align: right;\">\n",
       "      <th></th>\n",
       "      <th>country</th>\n",
       "      <th>year</th>\n",
       "      <th>sex</th>\n",
       "      <th>age</th>\n",
       "      <th>suicides_no</th>\n",
       "      <th>population</th>\n",
       "      <th>suicides/100k pop</th>\n",
       "      <th>country-year</th>\n",
       "      <th>HDI for year</th>\n",
       "      <th>gdp_for_year ($)</th>\n",
       "      <th>gdp_per_capita ($)</th>\n",
       "      <th>generation</th>\n",
       "    </tr>\n",
       "  </thead>\n",
       "  <tbody>\n",
       "    <tr>\n",
       "      <th>0</th>\n",
       "      <td>Albania</td>\n",
       "      <td>1987</td>\n",
       "      <td>male</td>\n",
       "      <td>15-24 years</td>\n",
       "      <td>21</td>\n",
       "      <td>312900</td>\n",
       "      <td>6.71</td>\n",
       "      <td>Albania1987</td>\n",
       "      <td>NaN</td>\n",
       "      <td>2156624900</td>\n",
       "      <td>796</td>\n",
       "      <td>4.Generation X</td>\n",
       "    </tr>\n",
       "    <tr>\n",
       "      <th>1</th>\n",
       "      <td>Albania</td>\n",
       "      <td>1987</td>\n",
       "      <td>male</td>\n",
       "      <td>35-54 years</td>\n",
       "      <td>16</td>\n",
       "      <td>308000</td>\n",
       "      <td>5.19</td>\n",
       "      <td>Albania1987</td>\n",
       "      <td>NaN</td>\n",
       "      <td>2156624900</td>\n",
       "      <td>796</td>\n",
       "      <td>2.Silent</td>\n",
       "    </tr>\n",
       "    <tr>\n",
       "      <th>2</th>\n",
       "      <td>Albania</td>\n",
       "      <td>1987</td>\n",
       "      <td>female</td>\n",
       "      <td>15-24 years</td>\n",
       "      <td>14</td>\n",
       "      <td>289700</td>\n",
       "      <td>4.83</td>\n",
       "      <td>Albania1987</td>\n",
       "      <td>NaN</td>\n",
       "      <td>2156624900</td>\n",
       "      <td>796</td>\n",
       "      <td>4.Generation X</td>\n",
       "    </tr>\n",
       "    <tr>\n",
       "      <th>3</th>\n",
       "      <td>Albania</td>\n",
       "      <td>1987</td>\n",
       "      <td>male</td>\n",
       "      <td>75+ years</td>\n",
       "      <td>1</td>\n",
       "      <td>21800</td>\n",
       "      <td>4.59</td>\n",
       "      <td>Albania1987</td>\n",
       "      <td>NaN</td>\n",
       "      <td>2156624900</td>\n",
       "      <td>796</td>\n",
       "      <td>1.G.I. Generation</td>\n",
       "    </tr>\n",
       "    <tr>\n",
       "      <th>4</th>\n",
       "      <td>Albania</td>\n",
       "      <td>1987</td>\n",
       "      <td>male</td>\n",
       "      <td>25-34 years</td>\n",
       "      <td>9</td>\n",
       "      <td>274300</td>\n",
       "      <td>3.28</td>\n",
       "      <td>Albania1987</td>\n",
       "      <td>NaN</td>\n",
       "      <td>2156624900</td>\n",
       "      <td>796</td>\n",
       "      <td>3.Boomers</td>\n",
       "    </tr>\n",
       "  </tbody>\n",
       "</table>\n",
       "</div>"
      ],
      "text/plain": [
       "   country  year     sex          age  suicides_no  population  \\\n",
       "0  Albania  1987    male  15-24 years           21      312900   \n",
       "1  Albania  1987    male  35-54 years           16      308000   \n",
       "2  Albania  1987  female  15-24 years           14      289700   \n",
       "3  Albania  1987    male    75+ years            1       21800   \n",
       "4  Albania  1987    male  25-34 years            9      274300   \n",
       "\n",
       "   suicides/100k pop country-year  HDI for year  gdp_for_year ($)  \\\n",
       "0               6.71  Albania1987           NaN        2156624900   \n",
       "1               5.19  Albania1987           NaN        2156624900   \n",
       "2               4.83  Albania1987           NaN        2156624900   \n",
       "3               4.59  Albania1987           NaN        2156624900   \n",
       "4               3.28  Albania1987           NaN        2156624900   \n",
       "\n",
       "   gdp_per_capita ($)         generation  \n",
       "0                 796     4.Generation X  \n",
       "1                 796           2.Silent  \n",
       "2                 796     4.Generation X  \n",
       "3                 796  1.G.I. Generation  \n",
       "4                 796          3.Boomers  "
      ]
     },
     "execution_count": 109,
     "metadata": {},
     "output_type": "execute_result"
    }
   ],
   "source": [
    "import pandas as pd\n",
    "from sklearn.preprocessing import StandardScaler\n",
    "from sklearn.cluster import KMeans\n",
    "from sklearn.cluster import DBSCAN\n",
    "from sklearn.cluster import AgglomerativeClustering\n",
    "from sklearn.preprocessing import StandardScaler\n",
    "\n",
    "\n",
    "# Загрузка данных\n",
    "df = pd.read_csv('C:/Users/shemy/Downloads/master2.csv')\n",
    "df.head()"
   ]
  },
  {
   "cell_type": "markdown",
   "id": "c5a11c44",
   "metadata": {},
   "source": [
    "# 2) Обработка данных"
   ]
  },
  {
   "cell_type": "code",
   "execution_count": 110,
   "id": "605383fd",
   "metadata": {},
   "outputs": [],
   "source": [
    "# Удалим строки с пропущенными значениями\n",
    "df = df.dropna()\n",
    "\n",
    "# Выберем числовые признаки для кластеризации\n",
    "features = df[['suicides_no', 'population', 'year', 'gdp_per_capita ($)', 'suicides/100k pop', 'gdp_for_year ($)']]\n",
    "\n",
    "# Нормализуем данные\n",
    "scaler = StandardScaler()\n",
    "scaled_features = scaler.fit_transform(features)"
   ]
  },
  {
   "cell_type": "markdown",
   "id": "a1a0e9ca",
   "metadata": {},
   "source": [
    "# 3) KMeans"
   ]
  },
  {
   "cell_type": "code",
   "execution_count": 111,
   "id": "87803349",
   "metadata": {},
   "outputs": [],
   "source": [
    "# Применим KMeans с 3 кластерами\n",
    "kmeans = KMeans(n_clusters=3, random_state=42)\n",
    "kmeans_labels = kmeans.fit_predict(scaled_features)\n",
    "\n",
    "# Посмотрим на метки кластеров\n",
    "df['kmeans_cluster'] = kmeans_labels"
   ]
  },
  {
   "cell_type": "markdown",
   "id": "7073416e",
   "metadata": {},
   "source": [
    "# 4) DBSCAN"
   ]
  },
  {
   "cell_type": "code",
   "execution_count": 112,
   "id": "cee06187",
   "metadata": {},
   "outputs": [],
   "source": [
    "# Применим DBSCAN\n",
    "dbscan = DBSCAN(eps=0.5, min_samples=5)\n",
    "dbscan_labels = dbscan.fit_predict(scaled_features)\n",
    "\n",
    "# Добавим метки DBSCAN в датафрейм\n",
    "df['dbscan_cluster'] = dbscan_labels"
   ]
  },
  {
   "cell_type": "markdown",
   "id": "7d88d23b",
   "metadata": {},
   "source": [
    "# 5) Agglomerative Clustering"
   ]
  },
  {
   "cell_type": "code",
   "execution_count": 113,
   "id": "c121b9e6",
   "metadata": {},
   "outputs": [],
   "source": [
    "# Применим агломеративную кластеризацию с 3 кластерами\n",
    "agg_clust = AgglomerativeClustering(n_clusters=3)\n",
    "agg_labels = agg_clust.fit_predict(scaled_features)\n",
    "\n",
    "# Добавим метки агломеративной кластеризации в датафрейм\n",
    "df['agg_cluster'] = agg_labels"
   ]
  },
  {
   "cell_type": "markdown",
   "id": "0fd56bb7",
   "metadata": {},
   "source": [
    "# 6) Сравнение"
   ]
  },
  {
   "cell_type": "code",
   "execution_count": 114,
   "id": "c0105768",
   "metadata": {},
   "outputs": [
    {
     "name": "stdout",
     "output_type": "stream",
     "text": [
      "KMeans ARI: 0.05874296554189404\n",
      "DBSCAN ARI: 0.040506667133270106\n",
      "Agglomerative ARI: 0.041627336453682676\n"
     ]
    }
   ],
   "source": [
    "# Для целей сравнения сделаем категориальные метки\n",
    "true_labels = df['generation'].astype('category').cat.codes\n",
    "\n",
    "# Сравним результаты кластеризации с истинными метками\n",
    "kmeans_score = adjusted_rand_score(true_labels, df['kmeans_cluster'])\n",
    "dbscan_score = adjusted_rand_score(true_labels, df['dbscan_cluster'])\n",
    "agg_score = adjusted_rand_score(true_labels, df['agg_cluster'])\n",
    "\n",
    "print(f\"KMeans ARI: {kmeans_score}\")\n",
    "print(f\"DBSCAN ARI: {dbscan_score}\")\n",
    "print(f\"Agglomerative ARI: {agg_score}\")"
   ]
  },
  {
   "cell_type": "markdown",
   "id": "5c9fa119",
   "metadata": {},
   "source": [
    "# 7) С применением PCA"
   ]
  },
  {
   "cell_type": "code",
   "execution_count": 156,
   "id": "57ad1827",
   "metadata": {},
   "outputs": [
    {
     "data": {
      "image/png": "[encoded data removed]",
      "text/plain": [
       "<Figure size 640x480 with 1 Axes>"
      ]
     },
     "metadata": {},
     "output_type": "display_data"
    }
   ],
   "source": [
    "from sklearn.decomposition import PCA\n",
    "\n",
    "# Признаки для кластеризации\n",
    "features = df[['suicides_no', 'population', 'year', 'gdp_per_capita ($)', 'suicides/100k pop', 'gdp_for_year ($)']]\n",
    "\n",
    "# Стандартизируем данные (нормализация)\n",
    "scaler = StandardScaler()\n",
    "scaled_features = scaler.fit_transform(features)\n",
    "\n",
    "# Применяем PCA для уменьшения размерности (например, до 2D для визуализации)\n",
    "pca = PCA(n_components=5)\n",
    "pca_features = pca.fit_transform(scaled_features)\n",
    "\n",
    "# Визуализируем данные после PCA\n",
    "plt.scatter(pca_features[:, 0], pca_features[:, 1])\n",
    "plt.title(\"Data after PCA\")\n",
    "plt.xlabel(\"Principal Component 1\")\n",
    "plt.ylabel(\"Principal Component 2\")\n",
    "plt.show()"
   ]
  },
  {
   "cell_type": "code",
   "execution_count": 157,
   "id": "7df64df2",
   "metadata": {},
   "outputs": [
    {
     "name": "stdout",
     "output_type": "stream",
     "text": [
      "KMeans ARI: 0.05852900596401296\n"
     ]
    }
   ],
   "source": [
    "# Определяем оптимальное количество кластеров (например, 3)\n",
    "kmeans = KMeans(n_clusters=3, random_state=42)\n",
    "kmeans_labels = kmeans.fit_predict(pca_features)\n",
    "\n",
    "# Сравниваем результаты с истинными метками\n",
    "kmeans_ari = adjusted_rand_score(df['generation'].astype('category').cat.codes, kmeans_labels)\n",
    "print(f\"KMeans ARI: {kmeans_ari}\")"
   ]
  },
  {
   "cell_type": "code",
   "execution_count": 158,
   "id": "b9792dbd",
   "metadata": {},
   "outputs": [
    {
     "name": "stdout",
     "output_type": "stream",
     "text": [
      "DBSCAN ARI: 0.03720291246844796\n"
     ]
    }
   ],
   "source": [
    "# Применим DBSCAN\n",
    "dbscan = DBSCAN(eps=0.3, min_samples=5)\n",
    "dbscan_labels = dbscan.fit_predict(pca_features)\n",
    "\n",
    "# Сравниваем результаты с истинными метками\n",
    "db_ari = adjusted_rand_score(df['generation'].astype('category').cat.codes, dbscan_labels)\n",
    "print(f\"DBSCAN ARI: {db_ari}\")"
   ]
  },
  {
   "cell_type": "code",
   "execution_count": 159,
   "id": "557c136c",
   "metadata": {},
   "outputs": [
    {
     "name": "stdout",
     "output_type": "stream",
     "text": [
      "Agglomerative ARI: 0.03279481403675181\n"
     ]
    }
   ],
   "source": [
    "# Применение агломеративной кластеризации с 3 кластерами\n",
    "agg_clust = AgglomerativeClustering(n_clusters=3)\n",
    "agg_labels = agg_clust.fit_predict(pca_features)\n",
    "\n",
    "# Сравниваем результаты с истинными метками\n",
    "agg_ari = adjusted_rand_score(df['generation'].astype('category').cat.codes, agg_labels)\n",
    "print(f\"Agglomerative ARI: {agg_ari}\")"
   ]
  },
  {
   "cell_type": "markdown",
   "id": "bbe9fca3",
   "metadata": {},
   "source": [
    "# Вывод"
   ]
  },
  {
   "cell_type": "markdown",
   "id": "2e31c764",
   "metadata": {},
   "source": [
    "Значения API всех методов находятся в пределах 0 и 0.1, что означает, что сходство между кластеризацией, выполненной этими методами, и истинными метками очень низкое. Но метод KMeans работает немного лучше. Возможные причины низких значений могут быть из-за сложности структуры данных или в разнице в распределении данных и меток(если истинные метки (например, страны) сильно различаются по количеству объектов в каждом классе (например, в одних странах много данных, а в других — очень мало))"
   ]
  }
 ],
 "metadata": {
  "kernelspec": {
   "display_name": "Python 3 (ipykernel)",
   "language": "python",
   "name": "python3"
  },
  "language_info": {
   "codemirror_mode": {
    "name": "ipython",
    "version": 3
   },
   "file_extension": ".py",
   "mimetype": "text/x-python",
   "name": "python",
   "nbconvert_exporter": "python",
   "pygments_lexer": "ipython3",
   "version": "3.11.5"
  }
 },
 "nbformat": 4,
 "nbformat_minor": 5
}
